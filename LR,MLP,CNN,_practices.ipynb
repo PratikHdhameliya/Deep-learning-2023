{
  "nbformat": 4,
  "nbformat_minor": 0,
  "metadata": {
    "colab": {
      "provenance": [],
      "gpuType": "T4",
      "authorship_tag": "ABX9TyN2tWcSD2E9zDy9Fbh3e4JZ",
      "include_colab_link": true
    },
    "kernelspec": {
      "name": "python3",
      "display_name": "Python 3"
    },
    "language_info": {
      "name": "python"
    },
    "accelerator": "GPU"
  },
  "cells": [
    {
      "cell_type": "markdown",
      "metadata": {
        "id": "view-in-github",
        "colab_type": "text"
      },
      "source": [
        "<a href=\"https://colab.research.google.com/github/PratikHdhameliya/Deep-learning-2023/blob/main/LR%2CMLP%2CCNN%2C_practices.ipynb\" target=\"_parent\"><img src=\"https://colab.research.google.com/assets/colab-badge.svg\" alt=\"Open In Colab\"/></a>"
      ]
    },
    {
      "cell_type": "code",
      "source": [
        "%matplotlib inline\n",
        "\n",
        "import matplotlib.pyplot as plt\n",
        "import numpy as np\n",
        "\n",
        "import torch\n",
        "import torch.nn as nn\n",
        "import torchvision.datasets as datasets\n",
        "import torchvision.transforms as transforms\n",
        "from torchvision.utils import make_grid\n",
        "from sklearn.metrics import confusion_matrix\n",
        "import seaborn as sns\n",
        "\n",
        "\n",
        "torch.manual_seed(42) # Set manual seed"
      ],
      "metadata": {
        "colab": {
          "base_uri": "https://localhost:8080/"
        },
        "id": "-wzaVKlBSC2c",
        "outputId": "7356e80b-35b6-49de-e8aa-8aa048d72df6"
      },
      "execution_count": 59,
      "outputs": [
        {
          "output_type": "execute_result",
          "data": {
            "text/plain": [
              "<torch._C.Generator at 0x7a252d3f9610>"
            ]
          },
          "metadata": {},
          "execution_count": 59
        }
      ]
    },
    {
      "cell_type": "code",
      "source": [
        "# DO NOT CHANGE\n",
        "use_cuda = True\n",
        "use_cuda = False if not use_cuda else torch.cuda.is_available()\n",
        "device = torch.device('cuda:0' if use_cuda else 'cpu')\n",
        "torch.cuda.get_device_name(device) if use_cuda else 'cpu'\n",
        "print('Using device', device)\n"
      ],
      "metadata": {
        "colab": {
          "base_uri": "https://localhost:8080/"
        },
        "id": "YXyhBwmUSMDb",
        "outputId": "13c89176-a901-4b00-af29-7513aa23e26b"
      },
      "execution_count": 60,
      "outputs": [
        {
          "output_type": "stream",
          "name": "stdout",
          "text": [
            "Using device cuda:0\n"
          ]
        }
      ]
    },
    {
      "cell_type": "code",
      "source": [
        "# Define the batch size for the data loaders\n",
        "batch_size = 256\n",
        "\n",
        "# Define the data augmentation(fliping half images of out dataset) and normalization transformations for the training set\n",
        "train_transforms = transforms.Compose([\n",
        "    transforms.RandomHorizontalFlip(p=0.5),  # Apply random horizontal flip with a probability of 0.5\n",
        "    transforms.ToTensor(),  # Convert images to tensor format\n",
        "    transforms.Normalize((0.4914, 0.4822, 0.4465), (0.2470, 0.2435, 0.2616))  # Normalize images with mean and std deviation of CIFAR-10 dataset\n",
        "])\n",
        "\n",
        "# Define the normalization transformation for the test set (no data augmentation)\n",
        "test_transforms = transforms.Compose([\n",
        "    transforms.ToTensor(),  # Convert images to tensor format\n",
        "    transforms.Normalize((0.4914, 0.4822, 0.4465), (0.2470, 0.2435, 0.2616))  # Normalize images with mean and std deviation of CIFAR-10 dataset\n",
        "])"
      ],
      "metadata": {
        "id": "oAd_By9wUQGj"
      },
      "execution_count": 61,
      "outputs": []
    },
    {
      "cell_type": "code",
      "source": [
        "# Load the data and transform the dataset\n",
        "\n",
        "train_dataset =  datasets.CIFAR10(root='./data', train=True, download=True, transform=train_transforms)\n",
        "test_dataset = datasets.CIFAR10(root='./data', train=False, download=True, transform=test_transforms)\n"
      ],
      "metadata": {
        "colab": {
          "base_uri": "https://localhost:8080/"
        },
        "id": "h8EL-Yx5UfnI",
        "outputId": "b0e889c9-e3d1-4aac-8921-0cff5581ebdb"
      },
      "execution_count": 62,
      "outputs": [
        {
          "output_type": "stream",
          "name": "stdout",
          "text": [
            "Files already downloaded and verified\n",
            "Files already downloaded and verified\n"
          ]
        }
      ]
    },
    {
      "cell_type": "code",
      "source": [
        "# You can verify the mean and standard deviation used in the normalization above by calculating the mean and std of the training dataset above.\n",
        "mean_train = np.mean(train_dataset.data, axis=(0,1,2))/255\n",
        "print('Mean1: ', mean_train[0])\n",
        "print('Mean2: ', mean_train[1])\n",
        "print('Mean3: ', mean_train[2])\n",
        "mean_test = np.std(train_dataset.data, axis=(0,1,2))/255\n",
        "print('Std1: ', mean_test[0])\n",
        "print('Std2: ', mean_test[1])\n",
        "print('Std3: ', mean_test[2])"
      ],
      "metadata": {
        "colab": {
          "base_uri": "https://localhost:8080/"
        },
        "id": "OC0lLxrnUdUU",
        "outputId": "750b0086-8729-4b11-ab34-18b4386c760d"
      },
      "execution_count": 63,
      "outputs": [
        {
          "output_type": "stream",
          "name": "stdout",
          "text": [
            "Mean1:  0.49139967861519607\n",
            "Mean2:  0.48215840839460783\n",
            "Mean3:  0.44653091444546567\n",
            "Std1:  0.24703223246328176\n",
            "Std2:  0.24348512800005648\n",
            "Std3:  0.26158784172796473\n"
          ]
        }
      ]
    },
    {
      "cell_type": "code",
      "source": [
        "train_loader=torch.utils.data.DataLoader(dataset=train_dataset, batch_size=batch_size, shuffle=True)\n",
        "test_loader=torch.utils.data.DataLoader(dataset=test_dataset, batch_size=batch_size, shuffle=False)"
      ],
      "metadata": {
        "id": "RV48IcWKUtE6"
      },
      "execution_count": 64,
      "outputs": []
    },
    {
      "cell_type": "code",
      "source": [
        "for images, labels in train_loader:\n",
        "        print(\"Labels: \", labels)\n",
        "        fig, ax = plt.subplots(figsize=(12, 6))\n",
        "        ax.set_xticks([]); ax.set_yticks([])\n",
        "        ax.imshow(make_grid(images[:16], nrow=4).permute(1, 2, 0))\n",
        "        break"
      ],
      "metadata": {
        "colab": {
          "base_uri": "https://localhost:8080/",
          "height": 707
        },
        "id": "Go35YG-xWLY2",
        "outputId": "b7ce1b8d-8574-4fc9-8241-44861b5beb7f"
      },
      "execution_count": 65,
      "outputs": [
        {
          "output_type": "stream",
          "name": "stderr",
          "text": [
            "WARNING:matplotlib.image:Clipping input data to the valid range for imshow with RGB data ([0..1] for floats or [0..255] for integers).\n"
          ]
        },
        {
          "output_type": "stream",
          "name": "stdout",
          "text": [
            "Labels:  tensor([6, 0, 4, 1, 2, 7, 9, 4, 7, 8, 4, 5, 6, 0, 4, 2, 0, 1, 6, 1, 4, 3, 2, 3,\n",
            "        2, 4, 0, 7, 5, 1, 8, 6, 3, 3, 7, 0, 4, 1, 7, 1, 3, 1, 1, 5, 6, 3, 7, 8,\n",
            "        2, 3, 4, 8, 2, 1, 5, 6, 9, 9, 6, 9, 8, 3, 4, 7, 8, 7, 0, 2, 5, 2, 5, 8,\n",
            "        6, 7, 4, 0, 5, 2, 0, 5, 1, 5, 5, 5, 1, 8, 6, 5, 7, 4, 9, 3, 2, 6, 6, 7,\n",
            "        0, 1, 2, 3, 4, 6, 5, 9, 3, 5, 8, 8, 2, 6, 5, 0, 0, 2, 2, 0, 4, 4, 5, 2,\n",
            "        8, 7, 4, 7, 2, 2, 0, 3, 9, 7, 9, 6, 6, 8, 4, 9, 4, 2, 6, 4, 3, 3, 6, 5,\n",
            "        1, 1, 5, 0, 3, 0, 0, 7, 2, 3, 9, 3, 6, 8, 7, 9, 9, 1, 6, 2, 1, 4, 2, 9,\n",
            "        5, 3, 0, 1, 8, 0, 7, 5, 5, 5, 7, 2, 3, 3, 5, 7, 2, 0, 3, 3, 3, 8, 5, 3,\n",
            "        5, 8, 3, 7, 5, 7, 2, 3, 3, 3, 6, 1, 5, 9, 1, 6, 8, 7, 3, 0, 8, 0, 4, 8,\n",
            "        1, 9, 3, 2, 8, 3, 7, 0, 8, 9, 2, 6, 8, 1, 8, 9, 2, 3, 0, 2, 1, 6, 3, 3,\n",
            "        4, 4, 5, 3, 8, 9, 7, 6, 8, 6, 1, 8, 3, 9, 8, 6])\n"
          ]
        },
        {
          "output_type": "display_data",
          "data": {
            "text/plain": [
              "<Figure size 1200x600 with 1 Axes>"
            ],
            "image/png": "[encoded data removed]"
          },
          "metadata": {}
        }
      ]
    },
    {
      "cell_type": "code",
      "source": [
        "num_classes=10"
      ],
      "metadata": {
        "id": "NOWd5ys6W6Ri"
      },
      "execution_count": 66,
      "outputs": []
    },
    {
      "cell_type": "code",
      "source": [
        "def accuracy(correct,total):\n",
        "    return correct/total"
      ],
      "metadata": {
        "id": "UyhKKIJqW8Q8"
      },
      "execution_count": 67,
      "outputs": []
    },
    {
      "cell_type": "code",
      "source": [
        "def train(dataloader,optimizer,model,loss_fn):\n",
        "    model.train()\n",
        "\n",
        "    loss_save=[]\n",
        "\n",
        "    for data,target in dataloader:\n",
        "        data,target=data.to(device),target.to(device)\n",
        "\n",
        "        optimizer.zero_grad()\n",
        "        output=model(data)\n",
        "\n",
        "        loss=loss_fn(output,target)\n",
        "        loss_save.append(loss.item())\n",
        "\n",
        "        loss.backward()\n",
        "        optimizer.step()\n",
        "    return np.mean(loss_save)\n",
        "\n",
        "\n",
        "\n",
        "def validate(dataloader, model,loss_fn):\n",
        "    model.eval()\n",
        "\n",
        "    loss_save=[]\n",
        "\n",
        "    with torch.no_grad():\n",
        "         for data,target in dataloader:\n",
        "             data,target=data.to(device),target.to(device)\n",
        "\n",
        "             output=model.forward(data)\n",
        "\n",
        "\n",
        "             loss=loss_fn(output,target)\n",
        "             loss_save.append(loss.item())\n",
        "    return np.mean(loss_save)\n",
        "\n",
        "from tqdm import trange\n",
        "\n",
        "def runtraining (model, optimizer, loss_fn, device, num_epochs, train_loader, val_loader):\n",
        "    train_loss_save=[]\n",
        "    val_loss_save=[]\n",
        "\n",
        "    for epoch in trange(num_epochs, desc='Epoch'):\n",
        "        train_loss=train(train_loader,optimizer,model,loss_fn)\n",
        "        val_loss=validate(val_loader, model,loss_fn)\n",
        "        train_loss_save.append(train_loss)\n",
        "        val_loss_save.append(val_loss)\n",
        "\n",
        "        print(f'Training epoch{epoch+1}: ')\n",
        "        print(f'Training Loss: {train_loss:.3f}')\n",
        "        print(f'Validation Loss: {val_loss:.3f}')\n",
        "\n",
        "    print('Training process has finished.')\n",
        "    return train_loss_save, val_loss_save\n"
      ],
      "metadata": {
        "id": "gISBXDWqSc_v"
      },
      "execution_count": 68,
      "outputs": []
    },
    {
      "cell_type": "code",
      "source": [
        "class LR(torch.nn.Module):\n",
        "    def __init__(self, input_dim, output_dim=1):\n",
        "        super(LR, self).__init__()\n",
        "        self.linear = torch.nn.Linear(input_dim, output_dim)\n",
        "\n",
        "\n",
        "    def forward(self, x):\n",
        "        flattened = torch.flatten(x, 1)\n",
        "        outputs = torch.sigmoid(self.linear(flattened))\n",
        "        return outputs"
      ],
      "metadata": {
        "id": "-rzTccRGSZ5d"
      },
      "execution_count": 69,
      "outputs": []
    },
    {
      "cell_type": "code",
      "source": [
        "input_shape = train_loader.dataset.data.shape[1]*train_loader.dataset.data.shape[2]*train_loader.dataset.data.shape[3]\n",
        "linear_regression = LR(input_shape, num_classes).to(device)\n",
        "linear_regression.train()"
      ],
      "metadata": {
        "id": "7837YtH19TN9",
        "colab": {
          "base_uri": "https://localhost:8080/"
        },
        "outputId": "0701a0e2-ea81-4c19-cccf-54755ee5b069"
      },
      "execution_count": 70,
      "outputs": [
        {
          "output_type": "execute_result",
          "data": {
            "text/plain": [
              "LR(\n",
              "  (linear): Linear(in_features=3072, out_features=10, bias=True)\n",
              ")"
            ]
          },
          "metadata": {},
          "execution_count": 70
        }
      ]
    },
    {
      "cell_type": "code",
      "source": [
        "optimizer = torch.optim.Adam(linear_regression.parameters(), lr=0.001)\n",
        "loss_fn = torch.nn.CrossEntropyLoss()"
      ],
      "metadata": {
        "id": "4iic808B9VXt"
      },
      "execution_count": 71,
      "outputs": []
    },
    {
      "cell_type": "code",
      "source": [
        "num_epochs = 20\n",
        "train_loss, val_loss = runtraining (linear_regression, optimizer, loss_fn, device, num_epochs, train_loader, test_loader)\n"
      ],
      "metadata": {
        "colab": {
          "base_uri": "https://localhost:8080/"
        },
        "id": "CqRhVW0x37cK",
        "outputId": "8d5fe77d-64cb-45d9-bda9-f916a888f429"
      },
      "execution_count": null,
      "outputs": [
        {
          "output_type": "stream",
          "name": "stderr",
          "text": [
            "Epoch:   5%|▌         | 1/20 [00:18<05:48, 18.36s/it]"
          ]
        },
        {
          "output_type": "stream",
          "name": "stdout",
          "text": [
            "Training epoch1: \n",
            "Training Loss: 2.059\n",
            "Validation Loss: 2.031\n"
          ]
        },
        {
          "output_type": "stream",
          "name": "stderr",
          "text": [
            "\rEpoch:  10%|█         | 2/20 [00:37<05:38, 18.82s/it]"
          ]
        },
        {
          "output_type": "stream",
          "name": "stdout",
          "text": [
            "Training epoch2: \n",
            "Training Loss: 2.024\n",
            "Validation Loss: 2.020\n"
          ]
        },
        {
          "output_type": "stream",
          "name": "stderr",
          "text": [
            "\rEpoch:  15%|█▌        | 3/20 [00:57<05:26, 19.20s/it]"
          ]
        },
        {
          "output_type": "stream",
          "name": "stdout",
          "text": [
            "Training epoch3: \n",
            "Training Loss: 2.013\n",
            "Validation Loss: 2.014\n"
          ]
        }
      ]
    },
    {
      "cell_type": "code",
      "source": [
        "plt.plot(train_loss)\n",
        "plt.plot(val_loss)\n",
        "plt.title('LR model loss')\n",
        "plt.ylabel('loss')\n",
        "plt.xlabel('epoch')\n",
        "plt.legend(['train', 'val'], loc='upper right')\n",
        "plt.show()"
      ],
      "metadata": {
        "id": "3VcktZrg73iS"
      },
      "execution_count": null,
      "outputs": []
    },
    {
      "cell_type": "code",
      "source": [
        "class MLP(torch.nn.Module):\n",
        "      def __init__(self, input_dim, output_dim):\n",
        "          super(MLP, self).__init__()\n",
        "          self.Layers=nn.Sequential(\n",
        "              nn.Linear(input_dim,1650),\n",
        "              nn.ReLU(),\n",
        "              nn.Linear(1650,512),\n",
        "              nn.ReLU(),\n",
        "              nn.Linear(512,138),\n",
        "              nn.ReLU(),\n",
        "              nn.Linear(138,output_dim),\n",
        "\n",
        "          )\n",
        "      def forward(self,xb):\n",
        "          xb=torch.flatten(xb,1)\n",
        "          xb=self.Layers(xb)\n",
        "          return xb"
      ],
      "metadata": {
        "id": "ZiVntV32Siy8"
      },
      "execution_count": null,
      "outputs": []
    },
    {
      "cell_type": "code",
      "source": [
        "MLP=MLP(input_shape,num_classes).to(device)\n",
        "MLP.train()"
      ],
      "metadata": {
        "id": "8k420ERrUljL"
      },
      "execution_count": null,
      "outputs": []
    },
    {
      "cell_type": "code",
      "source": [
        "optimizer = torch.optim.Adam(MLP.parameters(), lr=0.001, weight_decay=0.0005)\n",
        "loss_fn = torch.nn.CrossEntropyLoss()"
      ],
      "metadata": {
        "id": "Eksw_3gfVZEf"
      },
      "execution_count": null,
      "outputs": []
    },
    {
      "cell_type": "code",
      "source": [
        "num_epochs = 20\n",
        "train_loss, val_loss = runtraining (MLP, optimizer, loss_fn, device, num_epochs, train_loader, test_loader)\n"
      ],
      "metadata": {
        "id": "XvWL9PbIVaZP"
      },
      "execution_count": null,
      "outputs": []
    },
    {
      "cell_type": "code",
      "source": [
        "plt.plot(train_loss)\n",
        "plt.plot(val_loss)\n",
        "plt.title('MLP model loss with L2 regularization')\n",
        "plt.ylabel('loss')\n",
        "plt.xlabel('epoch')\n",
        "plt.legend(['train', 'val'], loc='upper right')\n",
        "plt.show()"
      ],
      "metadata": {
        "id": "sfodlJOyVvF0"
      },
      "execution_count": null,
      "outputs": []
    },
    {
      "cell_type": "code",
      "source": [
        "def predic_dl(model,data_loader):\n",
        "    model.eval()\n",
        "    y_pred=[]\n",
        "    y_true=[]\n",
        "\n",
        "    for i,(images,labels) in enumerate(data_loader):\n",
        "        images=images.to(device)\n",
        "\n",
        "        x=model(images)\n",
        "        value,pred=torch.max(x,1)\n",
        "        pred=pred.data.cpu()\n",
        "\n",
        "        y_pred.extend(list(pred.numpy()))\n",
        "        y_true.extend(list(labels.numpy()))\n",
        "    return np.array(y_pred), np.array(y_true)"
      ],
      "metadata": {
        "id": "FSOJY3wMnrxV"
      },
      "execution_count": null,
      "outputs": []
    },
    {
      "cell_type": "code",
      "source": [
        "y_pred, y_true = predic_dl(MLP, test_loader)\n",
        "conf_mat =confusion_matrix(y_true=y_true , y_pred=y_pred)\n",
        "sns.heatmap(conf_mat, annot=True, fmt='d',cmap='Blues')\n",
        "plt.show()"
      ],
      "metadata": {
        "id": "LPDaNzsFlznT"
      },
      "execution_count": null,
      "outputs": []
    },
    {
      "cell_type": "code",
      "source": [
        "class CNN(torch.nn.Module):\n",
        "      def __init__(self, n_classes, in_channels=3):\n",
        "          super(CNN, self).__init__()\n",
        "          self.Layers=nn.Sequential(\n",
        "              nn.Conv2d(in_channels=in_channels, out_channels=6, kernel_size=5, stride=1),\n",
        "              nn.ReLU(),\n",
        "              nn.AvgPool2d(kernel_size=2),\n",
        "              nn.Conv2d(in_channels=6, out_channels=16, kernel_size=5, stride=1),\n",
        "              nn.ReLU(),\n",
        "              nn.AvgPool2d(kernel_size=2),\n",
        "              nn.Conv2d(in_channels=16, out_channels=120, kernel_size=5, stride=1),\n",
        "              nn.ReLU(),\n",
        "          )\n",
        "\n",
        "          self.classifier=nn.Sequential(\n",
        "              nn.Linear(in_features=120, out_features=84),\n",
        "              nn.ReLU(),\n",
        "              nn.Linear(in_features=84, out_features=n_classes),\n",
        "          )\n",
        "\n",
        "      def forward(self,xb):\n",
        "          xb=self.Layers(xb)\n",
        "          xb=torch.flatten(xb,1)\n",
        "          xb=self.classifier(xb)\n",
        "          return xb\n"
      ],
      "metadata": {
        "id": "l6_Ict5KV0JC"
      },
      "execution_count": null,
      "outputs": []
    },
    {
      "cell_type": "code",
      "source": [
        "CNN=CNN(num_classes,in_channels=3).to(device)\n",
        "CNN.train()"
      ],
      "metadata": {
        "id": "IPRDI5smYKsr"
      },
      "execution_count": null,
      "outputs": []
    },
    {
      "cell_type": "code",
      "source": [
        "loss_fn = torch.nn.CrossEntropyLoss()\n",
        "optimizer = torch.optim.Adam(CNN.parameters(), lr = 0.001)\n",
        "\n",
        "num_epochs=20\n",
        "train_losses, val_losses = runtraining (CNN, optimizer, loss_fn, device, num_epochs, train_loader, test_loader)"
      ],
      "metadata": {
        "id": "WO3GDg2umQTV"
      },
      "execution_count": null,
      "outputs": []
    },
    {
      "cell_type": "code",
      "source": [],
      "metadata": {
        "id": "ECx1LrTMoZKt"
      },
      "execution_count": null,
      "outputs": []
    },
    {
      "cell_type": "code",
      "source": [
        "plt.plot(train_losses)\n",
        "plt.plot(val_losses)\n",
        "plt.title('CNN model loss')\n",
        "plt.ylabel('loss')\n",
        "plt.xlabel('epoch')\n",
        "plt.legend(['train', 'val'], loc='upper right')\n",
        "plt.show()"
      ],
      "metadata": {
        "id": "vrQInsbrmLf-"
      },
      "execution_count": null,
      "outputs": []
    },
    {
      "cell_type": "code",
      "source": [
        "y_pred, y_true = predic_dl(CNN, test_loader)"
      ],
      "metadata": {
        "id": "_nje8Nwxhcqi"
      },
      "execution_count": null,
      "outputs": []
    },
    {
      "cell_type": "code",
      "source": [
        "conf_mat =confusion_matrix(y_true=y_true , y_pred=y_pred)\n",
        "sns.heatmap(conf_mat, annot=True, fmt='d',cmap='Blues')\n",
        "plt.show()"
      ],
      "metadata": {
        "id": "tJeS47AeksZo"
      },
      "execution_count": null,
      "outputs": []
    }
  ]
}